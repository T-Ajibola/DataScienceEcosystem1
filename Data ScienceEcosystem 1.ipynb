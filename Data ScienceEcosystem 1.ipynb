{
 "cells": [
  {
   "cell_type": "markdown",
   "id": "13a49d38-3e95-4cbb-a8af-41450c35665e",
   "metadata": {},
   "source": [
    "# My Notebook Assignment"
   ]
  },
  {
   "cell_type": "markdown",
   "id": "606cb1aa-0a40-4cba-be93-9d33e8983f8b",
   "metadata": {},
   "source": [
    "## Introduction\n",
    "In this notebook, Data Science Tools and Ecosystem learned in this module are summarized."
   ]
  },
  {
   "cell_type": "markdown",
   "id": "8875f90b-b6f7-4e86-9dfe-922420a3a1ad",
   "metadata": {},
   "source": [
    "**Objectives**\n",
    "* Libraries in Data science\n",
    "* Data science tools\n",
    "* Arithmetric expression\n",
    "+ Languages in Data science "
   ]
  },
  {
   "cell_type": "markdown",
   "id": "de763747-5836-4edc-b14a-6ff12d172b48",
   "metadata": {},
   "source": [
    "Some of the popular languages that Data Scientists use are:\n",
    "1. Python\n",
    "2. R\n",
    "3. SQL"
   ]
  },
  {
   "cell_type": "markdown",
   "id": "67e72c32-ad4f-49b9-bba3-b9b4f6b96ff7",
   "metadata": {},
   "source": [
    "Some of the commonly used libraries used by Data Scientists include:\n",
    "1. Numpy\n",
    "2. Pandas\n",
    "3. Scikit-learn\n"
   ]
  },
  {
   "cell_type": "markdown",
   "id": "9c0f763d-efa7-46e2-a02d-22f7e3ad7ec5",
   "metadata": {},
   "source": [
    "|Data Science Tools|\n",
    "-------------------\n",
    "| Juputer Notebook|\n",
    "| JupyterLite|\n",
    "| Apache Spark|"
   ]
  },
  {
   "cell_type": "markdown",
   "id": "5fe077db-63bc-47a8-949c-3a5c7a472d8a",
   "metadata": {},
   "source": [
    "### Below are a few examples of evaluating arithmetic expressions in Python"
   ]
  },
  {
   "cell_type": "code",
   "execution_count": 4,
   "id": "62f9af31-1ecc-48fe-884c-63a4ef875db0",
   "metadata": {},
   "outputs": [
    {
     "name": "stdout",
     "output_type": "stream",
     "text": [
      "50\n"
     ]
    }
   ],
   "source": [
    "X = 15\n",
    "Y = 35\n",
    "Z = X+Y\n",
    "print(Z)"
   ]
  },
  {
   "cell_type": "code",
   "execution_count": 5,
   "id": "a835a792-5654-426a-b249-f0b005ee14f2",
   "metadata": {},
   "outputs": [
    {
     "name": "stdout",
     "output_type": "stream",
     "text": [
      "525\n"
     ]
    }
   ],
   "source": [
    "X = 15\n",
    "Y = 35\n",
    "Z = X*Y\n",
    "print(Z)"
   ]
  },
  {
   "cell_type": "code",
   "execution_count": 6,
   "id": "1746594a-fae7-4899-ad54-eb42eefc76d9",
   "metadata": {},
   "outputs": [
    {
     "data": {
      "text/plain": [
       "1375"
      ]
     },
     "execution_count": 6,
     "metadata": {},
     "output_type": "execute_result"
    }
   ],
   "source": [
    "(33*40)+55"
   ]
  },
  {
   "cell_type": "code",
   "execution_count": 9,
   "id": "963f2325-63a1-4872-a369-b2e7539f2cb8",
   "metadata": {},
   "outputs": [
    {
     "name": "stdout",
     "output_type": "stream",
     "text": [
      "3.3333333333333335\n"
     ]
    }
   ],
   "source": [
    "a = 200\n",
    "b = 60\n",
    "c = a/b\n",
    "print(c)"
   ]
  },
  {
   "cell_type": "markdown",
   "id": "ff6b28ed-a8a8-4e4b-8ca9-c85e757e4d8b",
   "metadata": {},
   "source": [
    "## Author\n",
    "YUSUFF TOYEEB AJIBOLA "
   ]
  }
 ],
 "metadata": {
  "kernelspec": {
   "display_name": "Python 3 (ipykernel)",
   "language": "python",
   "name": "python3"
  },
  "language_info": {
   "codemirror_mode": {
    "name": "ipython",
    "version": 3
   },
   "file_extension": ".py",
   "mimetype": "text/x-python",
   "name": "python",
   "nbconvert_exporter": "python",
   "pygments_lexer": "ipython3",
   "version": "3.9.19"
  }
 },
 "nbformat": 4,
 "nbformat_minor": 5
}
